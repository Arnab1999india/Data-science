{
 "cells": [
  {
   "cell_type": "code",
   "execution_count": 14,
   "metadata": {},
   "outputs": [],
   "source": [
    "import requests\n",
    "import pandas as pd\n",
    "from tqdm import tqdm\n",
    "from bs4 import BeautifulSoup"
   ]
  },
  {
   "cell_type": "code",
   "execution_count": 6,
   "metadata": {},
   "outputs": [
    {
     "name": "stderr",
     "output_type": "stream",
     "text": [
      "100%|██████████| 50/50 [01:02<00:00,  1.26s/it]\n"
     ]
    }
   ],
   "source": [
    "data  = []\n",
    "for i in tqdm(range(1,51)):\n",
    "    link = 'https://books.toscrape.com/catalogue/page-' + str(i) + '.html'\n",
    "\n",
    "    res = requests.get(link)\n",
    "    soup = BeautifulSoup(res.text , 'html.parser')\n",
    "\n",
    "    for sp in soup.find_all('li', class_ = 'col-xs-6 col-sm-4 col-md-3 col-lg-3'):\n",
    "\n",
    "        # print(\"---->\",sp)\n",
    "        img_link    = 'https://books.toscrape.com/' + sp.find('img').get('src')[3:]\n",
    "        book_link   = 'https://books.toscrape.com/catalogue/' + sp.find_all('a')[-1].get('href')\n",
    "        title       =   sp.find_all('a')[-1].get('title')\n",
    "        rating      =   sp.find('p').get('class')[-1]\n",
    "        price       =   sp.find('p' , class_ = 'price_color').text[2:]\n",
    "        stock       =   sp.find('p', class_ = 'instock availability').text.strip()\n",
    "\n",
    "        data.append([title, rating, price, stock, book_link, img_link])\n",
    "\n",
    "        df = pd.DataFrame(data, columns = ['title', 'rating', 'price', 'stock', 'book_link', 'img_link'])\n",
    "\n",
    "        # df.head()\n",
    "\n",
    "        df.to_csv('books.csv', index = False)"
   ]
  },
  {
   "cell_type": "code",
   "execution_count": 11,
   "metadata": {},
   "outputs": [
    {
     "name": "stderr",
     "output_type": "stream",
     "text": [
      "  0%|          | 0/1000 [00:00<?, ?it/s]"
     ]
    },
    {
     "name": "stderr",
     "output_type": "stream",
     "text": [
      "100%|██████████| 1000/1000 [17:06<00:00,  1.03s/it]\n"
     ]
    }
   ],
   "source": [
    "df = pd.read_csv('books.csv')\n",
    "\n",
    "for link in tqdm(df['book_link']):\n",
    "    \n",
    "    res = requests.get(link)\n",
    "    soup = BeautifulSoup(res.text, 'html.parser')\n",
    "    typ = soup.find('ul', class_ = 'breadcrumb').find_all('a')[2].text\n",
    "    temp = soup.find('table', class_ = 'table table-striped').find_all('td')\n",
    "\n",
    "    upc      = temp[0].text\n",
    "    price_x  = temp[2].text[2:]\n",
    "    price_i  = temp[3].text[2:]\n",
    "    tax      = temp[4].text[2:]\n",
    "    qn       = temp[5].text\n",
    "    reviews  = temp[6].text\n",
    "\n",
    "    data.append([typ, price_x, price_i, tax, qn, upc, reviews])\n",
    "    # print(soup)\n",
    "\n",
    "\n",
    "df = pd.DataFrame(data, columns = ['category','price_e_tax', 'price_i_tax', 'tax', 'quantity', 'upc', 'reviews'])\n",
    "\n",
    "df.head()\n",
    "\n",
    "df.to_csv('data.csv', index = False)\n"
   ]
  },
  {
   "cell_type": "code",
   "execution_count": 16,
   "metadata": {},
   "outputs": [],
   "source": [
    "df_books = pd.read_csv('books.csv')\n",
    "df_data = pd.read_csv('data.csv')\n",
    "\n",
    "df = pd.DataFrame()\n",
    "\n",
    "df['title']         = df_books['title']\n",
    "df['upc']           = df_data['upc']\n",
    "df['category']      = df_data['category']\n",
    "df['price_e_tax']   = df_data['price_e_tax']\n",
    "df['price_i_tax']   = df_data['price_i_tax']\n",
    "df['tax']           = df_data['tax']\n",
    "df['rating']        = df_books['rating']\n",
    "df['reviews']       = df_data['reviews']\n",
    "df['quantity']      = df_data['quantity']\n",
    "df['stock']         = df_books['stock']\n",
    "\n",
    "df['book_link']     = df_books['book_link']\n",
    "df['img_link']      = df_books['img_link']\n",
    "\n",
    "df.to_csv('final.csv',index = False)"
   ]
  }
 ],
 "metadata": {
  "kernelspec": {
   "display_name": "Python 3",
   "language": "python",
   "name": "python3"
  },
  "language_info": {
   "codemirror_mode": {
    "name": "ipython",
    "version": 3
   },
   "file_extension": ".py",
   "mimetype": "text/x-python",
   "name": "python",
   "nbconvert_exporter": "python",
   "pygments_lexer": "ipython3",
   "version": "3.11.3"
  }
 },
 "nbformat": 4,
 "nbformat_minor": 2
}
