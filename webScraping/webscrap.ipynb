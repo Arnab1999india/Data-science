{
 "cells": [
  {
   "cell_type": "code",
   "execution_count": 14,
   "metadata": {},
   "outputs": [
    {
     "data": {
      "text/plain": [
       "<div class=\"col-6 col-lg-4 text-center margin-30px-bottom sm-margin-30px-top\">\n",
       "<a href=\"/inspirational-quotes/8188-what-lies-behind-you-and-what-lies-in-front-of\"><img alt=\"What lies behind you and what lies in front of you pales in comparison to what lies inside you.  #&lt;Author:0x00007f72e7966188&gt;\" class=\"margin-10px-bottom shadow\" height=\"310\" src=\"https://assets.passiton.com/quotes/quote_artwork/8188/medium/20240315_friday_quote.jpg\" width=\"310\"/></a>\n",
       "<h5 class=\"value_on_red\"><a href=\"/inspirational-quotes/8188-what-lies-behind-you-and-what-lies-in-front-of\">CONFIDENCE</a></h5>\n",
       "</div>"
      ]
     },
     "execution_count": 14,
     "metadata": {},
     "output_type": "execute_result"
    }
   ],
   "source": [
    "import requests\n",
    "from bs4 import BeautifulSoup\n",
    "import csv\n",
    "\n",
    "URL = \"http://www.values.com/inspirational-quotes\"\n",
    "r = requests.get(URL)\n",
    "# print(r.text)\n",
    "soup = BeautifulSoup(r.text, 'html.parser')\n",
    "# print(soup.prettify())\n",
    "soup.find_all('div',class_='col-6 col-lg-4 text-center margin-30px-bottom sm-margin-30px-top')[0]\n",
    "# quotes=[]  # a list to store quotes\n",
    "   \n",
    "# table = soup.find('div', attrs = {'id':'all_quotes'}) \n",
    "   \n",
    "# for row in table.findAll('div',\n",
    "#                          attrs = {'class':'col-6 col-lg-3 text-center margin-30px-bottom sm-margin-30px-top'}):\n",
    "#     quote = {}\n",
    "#     quote['theme'] = row.h5.text\n",
    "#     quote['url'] = row.a['href']\n",
    "#     quote['img'] = row.img['src']\n",
    "#     quote['lines'] = row.img['alt'].split(\" #\")[0]\n",
    "#     quote['author'] = row.img['alt'].split(\" #\")[1]\n",
    "#     quotes.append(quote)\n",
    "   \n",
    "# filename = 'inspirational_quotes.csv'\n",
    "# with open(filename, 'w', newline='') as f:\n",
    "#     w = csv.DictWriter(f,['theme','url','img','lines','author'])\n",
    "#     w.writeheader()\n",
    "#     for quote in quotes:\n",
    "#         w.writerow(quote)"
   ]
  },
  {
   "cell_type": "code",
   "execution_count": 16,
   "metadata": {},
   "outputs": [
    {
     "name": "stdout",
     "output_type": "stream",
     "text": [
      "<img alt=\"What lies behind you and what lies in front of you pales in comparison to what lies inside you.  #&lt;Author:0x00007f73643a55a0&gt;\" class=\"margin-10px-bottom shadow\" height=\"310\" src=\"https://assets.passiton.com/quotes/quote_artwork/8188/medium/20240315_friday_quote.jpg\" width=\"310\"/>\n",
      "\n",
      "<img alt=\"Every small positive change we make in ourselves repays us in confidence in the future. #&lt;Author:0x00007f73643ef768&gt;\" class=\"margin-10px-bottom shadow\" height=\"310\" src=\"https://assets.passiton.com/quotes/quote_artwork/6990/medium/20240314_thursday_quote.jpg\" width=\"310\"/>\n",
      "\n",
      "<img alt=\"Live from the heart of yourself. Seek to be whole, not perfect. #&lt;Author:0x00007f73643dddd8&gt;\" class=\"margin-10px-bottom shadow\" height=\"310\" src=\"https://assets.passiton.com/quotes/quote_artwork/8187/medium/20240313_wednesday_quote.jpg\" width=\"310\"/>\n",
      "\n",
      "<img alt=\"You have no control over other people's taste, so focus on staying true to your own. #&lt;Author:0x00007f736442c230&gt;\" class=\"margin-10px-bottom shadow\" height=\"310\" src=\"https://assets.passiton.com/quotes/quote_artwork/8391/medium/20240312_tuesday_quote.jpg\" width=\"310\"/>\n",
      "\n",
      "<img alt=\"Confidence comes not from always being right, but from not fearing to be wrong. #&lt;Author:0x00007f7364415648&gt;\" class=\"margin-10px-bottom shadow\" height=\"310\" src=\"https://assets.passiton.com/quotes/quote_artwork/6508/medium/20240311_monday_quote.jpg\" width=\"310\"/>\n",
      "\n",
      "<img alt=\"We all come from different paths in life but we can find common ground. #&lt;Author:0x00007f72e6ad3698&gt;\" class=\"margin-10px-bottom shadow\" height=\"310\" src=\"https://assets.passiton.com/quotes/quote_artwork/8421/medium/20240308_friday_quote.jpg\" width=\"310\"/>\n",
      "\n",
      "<img alt=\"We all live with the objective of being happy; our lives are all different and yet the same. #&lt;Author:0x00007f72e5d819b8&gt;\" class=\"margin-10px-bottom shadow\" height=\"310\" src=\"https://assets.passiton.com/quotes/quote_artwork/3463/medium/20240307_thursday_quote.jpg\" width=\"310\"/>\n",
      "\n",
      "<img alt=\"We must seek, above all, a world of peace; a world in which peoples dwell together in mutual respect and work together in mutual regard. #&lt;Author:0x00007f736443c298&gt;\" class=\"margin-10px-bottom shadow\" height=\"310\" src=\"https://assets.passiton.com/quotes/quote_artwork/8422/medium/20240306_wednesday_quote_alt.jpg\" width=\"310\"/>\n",
      "\n",
      "<img alt=\"By mutual respect, understanding and with good will we can find acceptable solutions to any problems which exist or may arise between us. #&lt;Author:0x00007f72e5b3e408&gt;\" class=\"margin-10px-bottom shadow\" height=\"310\" src=\"https://assets.passiton.com/quotes/quote_artwork/8420/medium/20240305_tuesday_quote.jpg\" width=\"310\"/>\n",
      "\n",
      "<img alt=\"We can find common ground only by moving to higher ground. #&lt;Author:0x00007f72e617cd60&gt;\" class=\"margin-10px-bottom shadow\" height=\"310\" src=\"https://assets.passiton.com/quotes/quote_artwork/7619/medium/20240304_monday_quote.jpg\" width=\"310\"/>\n",
      "\n",
      "<img alt=\"I shall either find a way, or make one. #&lt;Author:0x00007f72e63f77c0&gt;\" class=\"margin-10px-bottom shadow\" height=\"310\" src=\"https://assets.passiton.com/quotes/quote_artwork/8419/medium/20240301_friday_quote.jpg\" width=\"310\"/>\n",
      "\n",
      "<img alt=\"Act as if what you do makes a difference. It does.  #&lt;Author:0x00007f72e5d91c78&gt;\" class=\"margin-10px-bottom shadow\" height=\"310\" src=\"https://assets.passiton.com/quotes/quote_artwork/6266/medium/20240229_thursday_quote.jpg\" width=\"310\"/>\n",
      "\n",
      "<img alt=\"Obstacles are those frightful things you see when you take your eyes off the goal.  #&lt;Author:0x00007f72e68744d8&gt;\" class=\"margin-10px-bottom shadow\" height=\"310\" src=\"https://assets.passiton.com/quotes/quote_artwork/6356/medium/20240228_wednesday_quote.jpg\" width=\"310\"/>\n",
      "\n",
      "<img alt=\"Do the one thing you think you cannot do. Fail at it. Try again. Do better the second time. #&lt;Author:0x00007f72e6b63068&gt;\" class=\"margin-10px-bottom shadow\" height=\"310\" src=\"https://assets.passiton.com/quotes/quote_artwork/5801/medium/20240227_tuesday_quote.jpg\" width=\"310\"/>\n",
      "\n",
      "<img alt=\"I've always believed that success for anyone is all about drive, dedication, and desire, but for me, it's also been about confidence and faith. #&lt;Author:0x00007f72e63a9a70&gt;\" class=\"margin-10px-bottom shadow\" height=\"310\" src=\"https://assets.passiton.com/quotes/quote_artwork/8418/medium/20240226_monday_quote.jpg\" width=\"310\"/>\n",
      "\n",
      "<img alt=\"Leaders are like gardeners... As leaders we are not only responsible for harvesting our own success but for cultivating the success of the next generation. #&lt;Author:0x00007f72e6a44470&gt;\" class=\"margin-10px-bottom shadow\" height=\"310\" src=\"https://assets.passiton.com/quotes/quote_artwork/8417/medium/20240223_friday_quote.jpg\" width=\"310\"/>\n",
      "\n",
      "<img alt=\"Do not follow where the path may lead. Go instead where there is no path and leave a trail. #&lt;Author:0x00007f72e65e2918&gt;\" class=\"margin-10px-bottom shadow\" height=\"310\" src=\"https://assets.passiton.com/quotes/quote_artwork/6193/medium/20240222_thursday_quote.jpg\" width=\"310\"/>\n",
      "\n",
      "<img alt=\"Leadership is a two-way street. Respect for one's superiors; care for one's crew. #&lt;Author:0x00007f72e5c90fe0&gt;\" class=\"margin-10px-bottom shadow\" height=\"310\" src=\"https://assets.passiton.com/quotes/quote_artwork/7731/medium/20240221_wednesday_quote.jpg\" width=\"310\"/>\n",
      "\n",
      "<img alt=\"A leader is one who knows the way, goes the way, and shows the way. #&lt;Author:0x00007f72e560f9f0&gt;\" class=\"margin-10px-bottom shadow\" height=\"310\" src=\"https://assets.passiton.com/quotes/quote_artwork/8416/medium/20240220_tuesday_quote.jpg\" width=\"310\"/>\n",
      "\n",
      "<img alt=\"Leave nothing for tomorrow which can be done today. #&lt;Author:0x00007f72e6156200&gt;\" class=\"margin-10px-bottom shadow\" height=\"310\" src=\"https://assets.passiton.com/quotes/quote_artwork/8415/medium/20240219_monday_quote.jpg\" width=\"310\"/>\n",
      "\n",
      "<img alt=\"Love and kindness are never wasted. They always make a difference. #&lt;Author:0x00007f72e6064c70&gt;\" class=\"margin-10px-bottom shadow\" height=\"310\" src=\"https://assets.passiton.com/quotes/quote_artwork/6256/medium/20240216_friday_quote.jpg\" width=\"310\"/>\n",
      "\n",
      "<img alt=\"Where there is love there is life. #&lt;Author:0x00007f72e69c2bc8&gt;\" class=\"margin-10px-bottom shadow\" height=\"310\" src=\"https://assets.passiton.com/quotes/quote_artwork/7444/medium/20240215_thursday_quote.jpg\" width=\"310\"/>\n",
      "\n",
      "<img alt=\"You yourself, as much as anybody in the entire universe deserve your love and affection. #&lt;Author:0x00007f72e5b695b8&gt;\" class=\"margin-10px-bottom shadow\" height=\"310\" src=\"https://assets.passiton.com/quotes/quote_artwork/7692/medium/20240214_wednesday_quote.jpg\" width=\"310\"/>\n",
      "\n",
      "<img alt=\"Darkness cannot drive out darkness; only light can do that. Hate cannot drive out hate; only love can do that. #&lt;Author:0x00007f72e6d64088&gt;\" class=\"margin-10px-bottom shadow\" height=\"310\" src=\"https://assets.passiton.com/quotes/quote_artwork/7171/medium/20240213_tuesday_quote.jpg\" width=\"310\"/>\n",
      "\n",
      "<img alt=\"We lose ourselves in the things we love. We find ourselves there, too. #&lt;Author:0x00007f72e5ddaae0&gt;\" class=\"margin-10px-bottom shadow\" height=\"310\" src=\"https://assets.passiton.com/quotes/quote_artwork/6459/medium/20240212_monday_quote.jpg\" width=\"310\"/>\n",
      "\n",
      "<img alt=\"Ask yourself: Have you been kind today? Make kindness your modus operandi and change your world.  #&lt;Author:0x00007f72e61fd4b0&gt;\" class=\"margin-10px-bottom shadow\" height=\"310\" src=\"https://assets.passiton.com/quotes/quote_artwork/6382/medium/20240209_friday_quote.jpg\" width=\"310\"/>\n",
      "\n",
      "<img alt=\"You can always, always give something, even if it is only kindness! #&lt;Author:0x00007f72e683feb8&gt;\" class=\"margin-10px-bottom shadow\" height=\"310\" src=\"https://assets.passiton.com/quotes/quote_artwork/8067/medium/20240208_thursday_quote.jpg\" width=\"310\"/>\n",
      "\n",
      "<img alt=\"You can be rich in spirit, kindness, love and all those things that you can't put a dollar sign on. #&lt;Author:0x00007f72e695e7b8&gt;\" class=\"margin-10px-bottom shadow\" height=\"310\" src=\"https://assets.passiton.com/quotes/quote_artwork/8368/medium/20240207_wednesday_quote.jpg\" width=\"310\"/>\n",
      "\n",
      "<img alt=\"We rise by lifting others. #&lt;Author:0x00007f72e68f5178&gt;\" class=\"margin-10px-bottom shadow\" height=\"310\" src=\"https://assets.passiton.com/quotes/quote_artwork/4471/medium/20240206_tuesday_quote.jpg\" width=\"310\"/>\n",
      "\n",
      "<img alt=\"How do we change the world? One random act of kindness at a time. #&lt;Author:0x00007f72e61a3ac8&gt;\" class=\"margin-10px-bottom shadow\" height=\"310\" src=\"https://assets.passiton.com/quotes/quote_artwork/8349/medium/20240205_monday_quote.jpg\" width=\"310\"/>\n",
      "\n",
      "<img alt=\"Inspire and bring joy to all those you know. #&lt;Author:0x00007f72e6dfdc38&gt;\" class=\"margin-10px-bottom shadow\" height=\"310\" src=\"https://assets.passiton.com/quotes/quote_artwork/4227/medium/20240202_friday_quote.jpg\" width=\"310\"/>\n",
      "\n",
      "<img alt=\"Our chief want is someone who will inspire us to be what we know we could be. #&lt;Author:0x00007f72e61f4158&gt;\" class=\"margin-10px-bottom shadow\" height=\"310\" src=\"https://assets.passiton.com/quotes/quote_artwork/7075/medium/20240201_thursday_quote.jpg\" width=\"310\"/>\n",
      "\n",
      "<img alt=\"Promise yourself to be just as enthusiastic about the success of others as you are about your own. #&lt;Author:0x00007f72e685a678&gt;\" class=\"margin-10px-bottom shadow\" height=\"310\" src=\"https://assets.passiton.com/quotes/quote_artwork/3710/medium/20240131_wednesday_quote.jpg\" width=\"310\"/>\n",
      "\n"
     ]
    }
   ],
   "source": [
    "import requests\n",
    "from bs4 import BeautifulSoup\n",
    "import csv\n",
    "\n",
    "URL = \"http://www.values.com/inspirational-quotes\"\n",
    "r = requests.get(URL)\n",
    "# print(r.text)\n",
    "soup = BeautifulSoup(r.text, 'html.parser')\n",
    "# print(soup.prettify())\n",
    "for sp in soup.find_all('div',class_='col-6 col-lg-4 text-center margin-30px-bottom sm-margin-30px-top'):\n",
    "    quote=sp.find('img',class_='margin-10px-bottom shadow')\n",
    "    print()\n"
   ]
  },
  {
   "cell_type": "code",
   "execution_count": null,
   "metadata": {},
   "outputs": [],
   "source": [
    "import requests\n",
    "from bs4 import BeautifulSoup as bs\n",
    "  \n",
    "URL = 'https://www.geeksforgeeks.org/page/'\n",
    "  \n",
    "for page in range(1,10):\n",
    "      # pls note that the total number of\n",
    "    # pages in the website is more than 5000 so i'm only taking the\n",
    "    # first 10 as this is just an example\n",
    "  \n",
    "    req = requests.get(URL + str(page) + '/')\n",
    "    soup = bs(req.text, 'html.parser')\n",
    "  \n",
    "    titles = soup.find_all('div',attrs={'class','head'})\n",
    "  \n",
    "    for i in range(4,19):\n",
    "        if page>1:\n",
    "            print(f\"{(i-3)+page*15}\" + titles[i].text)\n",
    "        else:\n",
    "            print(f\"{i-3}\" + titles[i].text)"
   ]
  },
  {
   "cell_type": "code",
   "execution_count": 3,
   "metadata": {},
   "outputs": [
    {
     "name": "stdout",
     "output_type": "stream",
     "text": [
      "[]\n"
     ]
    }
   ],
   "source": [
    "import requests\n",
    "from bs4 import BeautifulSoup as bs \n",
    "\n",
    "URL = 'https://www.geeksforgeeks.org'\n",
    "  \n",
    "req = requests.get(URL)\n",
    "soup = bs(req.text, 'html.parser')\n",
    "  \n",
    "titles = soup.find_all('div',attrs = {'class','head'})\n",
    "  \n",
    "print(titles)"
   ]
  }
 ],
 "metadata": {
  "kernelspec": {
   "display_name": "Python 3",
   "language": "python",
   "name": "python3"
  },
  "language_info": {
   "codemirror_mode": {
    "name": "ipython",
    "version": 3
   },
   "file_extension": ".py",
   "mimetype": "text/x-python",
   "name": "python",
   "nbconvert_exporter": "python",
   "pygments_lexer": "ipython3",
   "version": "3.11.3"
  }
 },
 "nbformat": 4,
 "nbformat_minor": 2
}
