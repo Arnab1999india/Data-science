{
 "cells": [
  {
   "cell_type": "code",
   "execution_count": 30,
   "metadata": {},
   "outputs": [],
   "source": [
    "import numpy as np"
   ]
  },
  {
   "cell_type": "markdown",
   "metadata": {},
   "source": [
    "## 1. Converting a list to Array"
   ]
  },
  {
   "cell_type": "code",
   "execution_count": 31,
   "metadata": {},
   "outputs": [
    {
     "name": "stdout",
     "output_type": "stream",
     "text": [
      "<class 'list'>\n",
      "<class 'numpy.ndarray'>\n",
      "[[1 5 3 4]]\n"
     ]
    }
   ],
   "source": [
    "lst = [1,5,3,4]\n",
    "print(type(lst))\n",
    "arr = np.array(lst)\n",
    "print(type(arr))\n",
    "arr = np.array(lst, ndmin = 2)\n",
    "print(arr)"
   ]
  },
  {
   "cell_type": "markdown",
   "metadata": {},
   "source": [
    "## 2. Arrange function"
   ]
  },
  {
   "cell_type": "markdown",
   "metadata": {},
   "source": [
    "arrange([start],[stop],[step], dtype):\n",
    "Returns an array with evenly spaced elements as per the interval."
   ]
  },
  {
   "cell_type": "code",
   "execution_count": 32,
   "metadata": {},
   "outputs": [
    {
     "name": "stdout",
     "output_type": "stream",
     "text": [
      "[ 1  5  9 13]\n"
     ]
    }
   ],
   "source": [
    "arr = np.arange(1,15,4)\n",
    "print(arr)"
   ]
  },
  {
   "cell_type": "markdown",
   "metadata": {},
   "source": [
    "## 3. Multidimensional Array"
   ]
  },
  {
   "cell_type": "code",
   "execution_count": 33,
   "metadata": {},
   "outputs": [
    {
     "data": {
      "text/plain": [
       "array([[ 1,  2,  3,  7],\n",
       "       [ 7, 56,  5,  6],\n",
       "       [10,  7,  8,  9]])"
      ]
     },
     "execution_count": 33,
     "metadata": {},
     "output_type": "execute_result"
    }
   ],
   "source": [
    "arr = np.array([[1,2,3,7],[7,56,5,6],[10,7,8,9]])\n",
    "\n",
    "arr"
   ]
  },
  {
   "cell_type": "markdown",
   "metadata": {},
   "source": [
    "## 4. Size Function"
   ]
  },
  {
   "cell_type": "markdown",
   "metadata": {},
   "source": [
    "Size() function count the number of elements along a axis(0-> Rows,1-> Cols)"
   ]
  },
  {
   "cell_type": "code",
   "execution_count": 34,
   "metadata": {},
   "outputs": [
    {
     "name": "stdout",
     "output_type": "stream",
     "text": [
      "Total :  16\n",
      "Rows  :  4\n",
      "Cols  :  4\n"
     ]
    },
    {
     "data": {
      "text/plain": [
       "array([[ 1,  2,  3,  7],\n",
       "       [40,  4,  5,  6],\n",
       "       [ 7,  8,  9, 75],\n",
       "       [11,  1,  2,  3]])"
      ]
     },
     "execution_count": 34,
     "metadata": {},
     "output_type": "execute_result"
    }
   ],
   "source": [
    "arr = np.array([[1,2,3,7],[40,4,5,6],[7,8,9,75],[11,1,2,3]])\n",
    "\n",
    "print('Total : ', arr.size)\n",
    "print('Rows  : ', np.size(arr,0))\n",
    "print('Cols  : ', np.size(arr,1))\n",
    "\n",
    "arr"
   ]
  },
  {
   "cell_type": "markdown",
   "metadata": {},
   "source": [
    "## 5. Shape Function"
   ]
  },
  {
   "cell_type": "markdown",
   "metadata": {},
   "source": [
    "Shape function can be defined as the number of elements in each dimension. Dimension is the number of indices that we require in order to specify an individual element of an array."
   ]
  },
  {
   "cell_type": "code",
   "execution_count": 35,
   "metadata": {},
   "outputs": [
    {
     "name": "stdout",
     "output_type": "stream",
     "text": [
      "rows-> 4 cols-> 4\n",
      "(4, 4)\n"
     ]
    }
   ],
   "source": [
    "arr = np.array([[1,2,3,7],[45,4,5,6],[725,4,8,9],[1,2,12,3]])\n",
    "print(\"rows->\",np.size(arr,0),\"cols->\",np.size(arr,1))\n",
    "print(arr.shape)"
   ]
  },
  {
   "cell_type": "markdown",
   "metadata": {},
   "source": [
    "## 6. Dtype Function"
   ]
  },
  {
   "cell_type": "markdown",
   "metadata": {},
   "source": [
    "Every ndarray has an associated data type (dtype) object. This informs us about the layout of the array. Such as -:\n",
    "\n",
    "Type of the data (integer, float, Python object, etc.)\n",
    "Size of the data (number of bytes)\n",
    "The byte order of the data (little-endian or big-endian)\n",
    "If the data type is a sub-array, what is its shape and data type?"
   ]
  },
  {
   "cell_type": "code",
   "execution_count": 36,
   "metadata": {},
   "outputs": [
    {
     "name": "stdout",
     "output_type": "stream",
     "text": [
      "int32\n",
      "float64\n"
     ]
    }
   ],
   "source": [
    "arr1 = np.array([1,2,3,1,2,3])\n",
    "arr2 = np.array([1.2,3.1,2.2])\n",
    "\n",
    "\n",
    "print(arr1.dtype)\n",
    "print(arr2.dtype)"
   ]
  },
  {
   "cell_type": "markdown",
   "metadata": {},
   "source": [
    "## 7. Ndim Function"
   ]
  },
  {
   "cell_type": "markdown",
   "metadata": {},
   "source": [
    "numpy.ndarray.ndim() function return the number of dimensions of an array."
   ]
  },
  {
   "cell_type": "code",
   "execution_count": 37,
   "metadata": {},
   "outputs": [
    {
     "name": "stdout",
     "output_type": "stream",
     "text": [
      "1\n",
      "2\n",
      "3\n"
     ]
    }
   ],
   "source": [
    "arr1 = np.array([1,2,3,1,2,3])\n",
    "arr2 = np.array([[1,2,3],[1,2,3]])\n",
    "\n",
    "print(arr1.ndim)\n",
    "print(arr2.ndim)\n",
    "\n",
    "arr3 = np.array(arr1, ndmin = 3)\n",
    "print(arr3.ndim)"
   ]
  },
  {
   "cell_type": "markdown",
   "metadata": {},
   "source": [
    "## 8. Zeros Function"
   ]
  },
  {
   "cell_type": "markdown",
   "metadata": {},
   "source": [
    "It returns a new array of given shape and type, with zeros. Syntax:\n",
    "\n",
    "numpy.zeros(shape, dtype = None)"
   ]
  },
  {
   "cell_type": "code",
   "execution_count": 38,
   "metadata": {},
   "outputs": [
    {
     "name": "stdout",
     "output_type": "stream",
     "text": [
      "[[0 0 0 0 0]\n",
      " [0 0 0 0 0]\n",
      " [0 0 0 0 0]]\n"
     ]
    }
   ],
   "source": [
    "arr = np.zeros(shape = (3,5), dtype = int)\n",
    "print(arr)"
   ]
  },
  {
   "cell_type": "markdown",
   "metadata": {},
   "source": [
    "## 9. Ones Function"
   ]
  },
  {
   "cell_type": "markdown",
   "metadata": {},
   "source": [
    "It returns a new array of given shape and type, with ones.\n",
    "\n",
    "Syntax: numpy.ones(shape, dtype = None)"
   ]
  },
  {
   "cell_type": "code",
   "execution_count": 39,
   "metadata": {},
   "outputs": [
    {
     "name": "stdout",
     "output_type": "stream",
     "text": [
      "[[1 1 1 1 1]\n",
      " [1 1 1 1 1]\n",
      " [1 1 1 1 1]]\n"
     ]
    }
   ],
   "source": [
    "arr = np.ones(shape = (3,5), dtype = int)\n",
    "print(arr)"
   ]
  },
  {
   "cell_type": "markdown",
   "metadata": {},
   "source": [
    "## 10. Eye Function"
   ]
  },
  {
   "cell_type": "markdown",
   "metadata": {},
   "source": [
    "Eye tool returns a 2-D array with 1’s as the diagonal and 0’s elsewhere. The diagonal can be main, upper, or lower depending on the optional parameter k."
   ]
  },
  {
   "cell_type": "code",
   "execution_count": 40,
   "metadata": {},
   "outputs": [
    {
     "data": {
      "text/plain": [
       "array([[1, 0, 0, 0],\n",
       "       [0, 1, 0, 0],\n",
       "       [0, 0, 1, 0],\n",
       "       [0, 0, 0, 1]])"
      ]
     },
     "execution_count": 40,
     "metadata": {},
     "output_type": "execute_result"
    }
   ],
   "source": [
    "np.eye(4, dtype = int)"
   ]
  },
  {
   "cell_type": "markdown",
   "metadata": {},
   "source": [
    "## 10. Empty Function"
   ]
  },
  {
   "cell_type": "markdown",
   "metadata": {},
   "source": [
    "Return am empty array of given shape and type with ranmdom values with the specified shape and type."
   ]
  },
  {
   "cell_type": "code",
   "execution_count": 41,
   "metadata": {},
   "outputs": [
    {
     "data": {
      "text/plain": [
       "array([[1.89146896e-307, 1.37961302e-306, 6.23053614e-307,\n",
       "        6.23053954e-307, 9.34609790e-307],\n",
       "       [8.45593934e-307, 9.34600963e-307, 9.34598925e-307,\n",
       "        1.42418715e-306, 1.95819401e-306],\n",
       "       [1.37961370e-306, 6.23054633e-307, 9.34598926e-307,\n",
       "        6.89804132e-307, 9.34598926e-307],\n",
       "       [8.01091099e-307, 1.24610927e-306, 2.22522597e-306,\n",
       "        8.90109671e-307, 1.69121503e-306],\n",
       "       [8.90104239e-307, 9.79097007e-307, 9.34605037e-307,\n",
       "        2.22522596e-306, 2.56765117e-312]])"
      ]
     },
     "execution_count": 41,
     "metadata": {},
     "output_type": "execute_result"
    }
   ],
   "source": [
    "np.empty(shape = (5,5))\n"
   ]
  },
  {
   "cell_type": "markdown",
   "metadata": {},
   "source": [
    "## 11. Random Functions"
   ]
  },
  {
   "cell_type": "markdown",
   "metadata": {},
   "source": [
    "### a) np.random.rand"
   ]
  },
  {
   "cell_type": "markdown",
   "metadata": {},
   "source": [
    "The numpy.random.rand() function creates an array of specified shape and fills it with random values."
   ]
  },
  {
   "cell_type": "code",
   "execution_count": 42,
   "metadata": {},
   "outputs": [
    {
     "data": {
      "text/plain": [
       "array([[0.56035221, 0.83193584, 0.73821947, 0.13385887],\n",
       "       [0.91092281, 0.59914387, 0.08567423, 0.06098106],\n",
       "       [0.55377271, 0.78467289, 0.41939365, 0.81032777]])"
      ]
     },
     "execution_count": 42,
     "metadata": {},
     "output_type": "execute_result"
    }
   ],
   "source": [
    "np.random.rand(3,4)"
   ]
  },
  {
   "cell_type": "markdown",
   "metadata": {},
   "source": [
    "b) np.random.randint"
   ]
  },
  {
   "cell_type": "markdown",
   "metadata": {},
   "source": [
    "numpy.random.randint() is one of the function for doing random sampling in numpy. It returns an array of specified shape and fills it with random integers from low (inclusive) to high (exclusive), i.e. in the interval [low, high)"
   ]
  },
  {
   "cell_type": "code",
   "execution_count": 43,
   "metadata": {},
   "outputs": [
    {
     "data": {
      "text/plain": [
       "array([1, 7, 1, 3, 4, 8, 1, 4, 4, 9])"
      ]
     },
     "execution_count": 43,
     "metadata": {},
     "output_type": "execute_result"
    }
   ],
   "source": [
    "np.random.randint(low = 1, high = 10, size = 10)"
   ]
  },
  {
   "cell_type": "markdown",
   "metadata": {},
   "source": [
    "c) np.random.randn"
   ]
  },
  {
   "cell_type": "markdown",
   "metadata": {},
   "source": [
    "The numpy.random.randn() function creates an array of specified shape and fills it with random values as per standard normal distribution."
   ]
  },
  {
   "cell_type": "code",
   "execution_count": 44,
   "metadata": {},
   "outputs": [
    {
     "data": {
      "image/png": "[encoded data removed]",
      "text/plain": [
       "<Figure size 640x480 with 1 Axes>"
      ]
     },
     "metadata": {},
     "output_type": "display_data"
    }
   ],
   "source": [
    "import matplotlib.pyplot as plt\n",
    "\n",
    "# %matplotlib inline\n",
    "\n",
    "plt.hist(np.random.randn(10000000), bins = 1000);"
   ]
  },
  {
   "cell_type": "markdown",
   "metadata": {},
   "source": [
    "12. Reshape function - will not alter the original data"
   ]
  },
  {
   "cell_type": "markdown",
   "metadata": {},
   "source": [
    "The numpy.reshape() function shapes an array without changing the data of the array.<br> It should be noted that the product if the rows and columns should be same"
   ]
  },
  {
   "cell_type": "code",
   "execution_count": 45,
   "metadata": {},
   "outputs": [
    {
     "name": "stdout",
     "output_type": "stream",
     "text": [
      "(3, 4)\n",
      "(4, 3)\n",
      "(6, 2)\n"
     ]
    }
   ],
   "source": [
    "arr = np.random.randint(1,15,(3,4))\n",
    "print(arr.shape)\n",
    "arr = arr.reshape(4,3)\n",
    "print(arr.shape)\n",
    "arr = arr.reshape(6,2)\n",
    "print(arr.shape)"
   ]
  },
  {
   "cell_type": "markdown",
   "metadata": {},
   "source": [
    "13. Linspace Function\n"
   ]
  },
  {
   "cell_type": "markdown",
   "metadata": {},
   "source": [
    "The numpy.linspace() function returns number spaces evenly w.r.t interval. Similar to numpy.arange() function but instead of step it uses sample number.\n",
    "\n",
    "Parameters :\n",
    "\n",
    "-> start : [optional] start of interval range. By default start = 0\n",
    "-> stop : end of interval range\n",
    "-> restep : If True, return (samples, step). By default restep = False\n",
    "-> num : [int, optional] No. of samples to generate\n",
    "-> dtype : type of output array"
   ]
  },
  {
   "cell_type": "code",
   "execution_count": 46,
   "metadata": {},
   "outputs": [
    {
     "data": {
      "text/plain": [
       "array([ 1.  ,  3.25,  5.5 ,  7.75, 10.  ])"
      ]
     },
     "execution_count": 46,
     "metadata": {},
     "output_type": "execute_result"
    }
   ],
   "source": [
    "\n",
    "np.linspace(1,10,5)"
   ]
  },
  {
   "cell_type": "markdown",
   "metadata": {},
   "source": [
    "14. Flatten Function"
   ]
  },
  {
   "cell_type": "markdown",
   "metadata": {},
   "source": [
    "ndarray.flatten() function return a copy of the array collapsed into one dimension."
   ]
  },
  {
   "cell_type": "code",
   "execution_count": 47,
   "metadata": {},
   "outputs": [
    {
     "name": "stdout",
     "output_type": "stream",
     "text": [
      "(3, 4)\n",
      "[[13 13 11  4]\n",
      " [11  9  9 14]\n",
      " [ 5  7  7  2]]\n",
      "--------------------\n",
      "(12,)\n",
      "[13 13 11  4 11  9  9 14  5  7  7  2]\n"
     ]
    }
   ],
   "source": [
    "arr = np.random.randint(1,15,(3,4))\n",
    "\n",
    "print(arr.shape)\n",
    "print(arr)\n",
    "print('-'*20)\n",
    "arr = arr.flatten()\n",
    "print(arr.shape)\n",
    "print(arr)"
   ]
  },
  {
   "cell_type": "markdown",
   "metadata": {},
   "source": [
    "16. Copy function"
   ]
  },
  {
   "cell_type": "markdown",
   "metadata": {},
   "source": [
    "If we normally use the equals sign then the **id** of both the numpy array will be same, so we need to use to copy function"
   ]
  },
  {
   "cell_type": "code",
   "execution_count": 48,
   "metadata": {},
   "outputs": [
    {
     "name": "stdout",
     "output_type": "stream",
     "text": [
      "[ 5  5  8 11  9 11  8 10  6 10] 1994678512560\n",
      "[ 5  5  8 11  9 11  8 10  6 10] 1994678512560\n",
      "--------------------------------------------------\n",
      "[ 8 10  7 12  7  7  1 10  7  3] 1994639782416\n",
      "[ 8 10  7 12  7  7  1 10  7  3] 1994669473936\n"
     ]
    }
   ],
   "source": [
    "arr1 = np.random.randint(1,15,10)\n",
    "\n",
    "arr2 = arr1\n",
    "\n",
    "print(arr1, id(arr1))\n",
    "print(arr2, id(arr2))\n",
    "\n",
    "print('-'*50)\n",
    "\n",
    "arr1 = np.random.randint(1,15,10)\n",
    "arr2 = np.copy(arr1)\n",
    "\n",
    "print(arr1, id(arr1))\n",
    "print(arr2, id(arr2))"
   ]
  },
  {
   "cell_type": "markdown",
   "metadata": {},
   "source": [
    "17. arr.max() , arr.min() , arr.sum() functions"
   ]
  },
  {
   "cell_type": "markdown",
   "metadata": {},
   "source": [
    "arr.max() will give us the maximum element present in the array\n",
    "arr.min() will give us the minimun element present in the array\n",
    "arr.sum() will give us the sum of all the elements present in the array"
   ]
  },
  {
   "cell_type": "code",
   "execution_count": 49,
   "metadata": {},
   "outputs": [
    {
     "name": "stdout",
     "output_type": "stream",
     "text": [
      "--------------------\n",
      "[[28 13  3  7  8]\n",
      " [28 10 28  8  7]\n",
      " [26 25  2 25  8]]\n",
      "--------------------\n",
      "MAX :  28\n",
      "MIN :  2\n",
      "SUM :  226\n"
     ]
    }
   ],
   "source": [
    "arr = np.random.randint(1,30,(3,5))\n",
    "\n",
    "print('-'*20)\n",
    "print(arr)\n",
    "print('-'*20)\n",
    "\n",
    "print('MAX : ', arr.max())\n",
    "print('MIN : ', arr.min())\n",
    "print('SUM : ', arr.sum())"
   ]
  },
  {
   "cell_type": "code",
   "execution_count": 50,
   "metadata": {},
   "outputs": [
    {
     "name": "stdout",
     "output_type": "stream",
     "text": [
      "MAX :  [28 25 28 25  8]\n",
      "MIN :  [26 10  2  7  7]\n",
      "SUM :  [82 48 33 40 23]\n",
      "MAX :  [28 28 26]\n",
      "MIN :  [3 7 2]\n",
      "SUM :  [59 81 86]\n"
     ]
    }
   ],
   "source": [
    "# For columns\n",
    "\n",
    "print('MAX : ', arr.max(axis = 0))\n",
    "print('MIN : ', arr.min(axis = 0))\n",
    "print('SUM : ', arr.sum(axis = 0))\n",
    "\n",
    "# Fow rows\n",
    "print('MAX : ', arr.max(axis = 1))\n",
    "print('MIN : ', arr.min(axis = 1))\n",
    "print('SUM : ', arr.sum(axis = 1))"
   ]
  },
  {
   "cell_type": "markdown",
   "metadata": {},
   "source": [
    "18. Seed Function"
   ]
  },
  {
   "cell_type": "markdown",
   "metadata": {},
   "source": [
    "random() function is used to generate random numbers in Python. Not actually random, rather this is used to generate pseudo-random numbers. That implies that these randomly generated numbers can be determined. random() function generates numbers for some values. This value is also called seed value.\n",
    "\n",
    "Syntax : random.seed( l, version )<br>\n",
    "\n",
    "Parameter :\n",
    "\n",
    "l : Any seed value used to produce a random number.\n",
    "version : A integer used to specify how to convert l in a integer."
   ]
  },
  {
   "cell_type": "code",
   "execution_count": 51,
   "metadata": {},
   "outputs": [
    {
     "data": {
      "text/plain": [
       "array([[9, 4, 9, 9, 1],\n",
       "       [6, 4, 6, 8, 7],\n",
       "       [1, 5, 8, 9, 2]])"
      ]
     },
     "execution_count": 51,
     "metadata": {},
     "output_type": "execute_result"
    }
   ],
   "source": [
    "np.random.seed(3)\n",
    "\n",
    "arr = np.random.randint(1,10,(3,5))\n",
    "\n",
    "arr"
   ]
  },
  {
   "cell_type": "markdown",
   "metadata": {},
   "source": [
    "19. Sorting Function"
   ]
  },
  {
   "cell_type": "code",
   "execution_count": 52,
   "metadata": {},
   "outputs": [
    {
     "name": "stdout",
     "output_type": "stream",
     "text": [
      "---------------\n",
      "[[9 4 9 9 1]\n",
      " [6 4 6 8 7]\n",
      " [1 5 8 9 2]]\n",
      "---------------\n",
      "[[1 4 9 9 9]\n",
      " [4 6 6 7 8]\n",
      " [1 2 5 8 9]]\n",
      "---------------\n",
      "[[1 4 6 8 1]\n",
      " [6 4 8 9 2]\n",
      " [9 5 9 9 7]]\n",
      "---------------\n",
      "[[1 1 2 4 4]\n",
      " [5 6 6 7 8]\n",
      " [8 9 9 9 9]]\n",
      "---------------\n"
     ]
    }
   ],
   "source": [
    "np.random.seed(3)\n",
    "arr = np.random.randint(1,10,(3,5))\n",
    "\n",
    "\n",
    "print('-'*15)\n",
    "print(arr)\n",
    "print('-'*15)\n",
    "print(np.sort(arr, axis = 1))\n",
    "print('-'*15)\n",
    "print(np.sort(arr, axis = 0))\n",
    "print('-'*15)\n",
    "\n",
    "arr = np.reshape(np.sort(arr.flatten()), arr.shape)\n",
    "print(arr)\n",
    "print('-'*15)"
   ]
  },
  {
   "cell_type": "code",
   "execution_count": null,
   "metadata": {},
   "outputs": [],
   "source": []
  },
  {
   "cell_type": "code",
   "execution_count": null,
   "metadata": {},
   "outputs": [],
   "source": []
  },
  {
   "cell_type": "code",
   "execution_count": null,
   "metadata": {},
   "outputs": [],
   "source": []
  },
  {
   "cell_type": "code",
   "execution_count": null,
   "metadata": {},
   "outputs": [],
   "source": []
  },
  {
   "cell_type": "code",
   "execution_count": null,
   "metadata": {},
   "outputs": [],
   "source": []
  },
  {
   "cell_type": "code",
   "execution_count": null,
   "metadata": {},
   "outputs": [],
   "source": []
  },
  {
   "cell_type": "code",
   "execution_count": null,
   "metadata": {},
   "outputs": [],
   "source": []
  }
 ],
 "metadata": {
  "kernelspec": {
   "display_name": "Python 3",
   "language": "python",
   "name": "python3"
  },
  "language_info": {
   "codemirror_mode": {
    "name": "ipython",
    "version": 3
   },
   "file_extension": ".py",
   "mimetype": "text/x-python",
   "name": "python",
   "nbconvert_exporter": "python",
   "pygments_lexer": "ipython3",
   "version": "3.11.3"
  }
 },
 "nbformat": 4,
 "nbformat_minor": 2
}
